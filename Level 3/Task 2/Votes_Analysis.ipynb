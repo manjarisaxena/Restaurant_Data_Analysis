{
  "cells": [
    {
      "cell_type": "code",
      "execution_count": 1,
      "id": "80e2c9c6",
      "metadata": {
        "scrolled": true,
        "colab": {
          "base_uri": "https://localhost:8080/"
        },
        "id": "80e2c9c6",
        "outputId": "15dab219-4edd-4663-cafb-89495271a072"
      },
      "outputs": [
        {
          "output_type": "stream",
          "name": "stdout",
          "text": [
            "Restaurants with the highest number of votes:\n",
            "    Restaurant Name  Votes\n",
            "728            Toit  10934\n"
          ]
        }
      ],
      "source": [
        "import pandas as pd\n",
        "import matplotlib.pyplot as plt\n",
        "data=pd.read_csv(\"/content/Dataset.csv\")\n",
        "highest_votes = data[data['Votes'] == data['Votes'].max()]\n",
        "print(\"Restaurants with the highest number of votes:\")\n",
        "print(highest_votes[['Restaurant Name', 'Votes']])"
      ]
    },
    {
      "cell_type": "code",
      "execution_count": 4,
      "id": "9f55f894",
      "metadata": {
        "scrolled": false,
        "colab": {
          "base_uri": "https://localhost:8080/"
        },
        "id": "9f55f894",
        "outputId": "4dcf03d6-13f5-4748-951e-bee5c8fd81a4"
      },
      "outputs": [
        {
          "output_type": "stream",
          "name": "stdout",
          "text": [
            "\n",
            "Restaurants with the lowest number of votes:\n",
            "                 Restaurant Name  Votes\n",
            "69              Cantinho da Gula      0\n",
            "874                The Chaiwalas      0\n",
            "879           Fusion Food Corner      0\n",
            "880                Punjabi Rasoi      0\n",
            "887                Baskin Robbin      0\n",
            "...                          ...    ...\n",
            "9044               6 Packs Momos      0\n",
            "9098                   Cafe' Wow      0\n",
            "9099  Chef's Basket Pop Up Caf��      0\n",
            "9103            The Hangout-Deli      0\n",
            "9111                    Platters      0\n",
            "\n",
            "[1094 rows x 2 columns]\n"
          ]
        }
      ],
      "source": [
        "lowest_votes = data[data['Votes'] == data['Votes'].min()]\n",
        "print(\"\\nRestaurants with the lowest number of votes:\")\n",
        "print(lowest_votes[['Restaurant Name', 'Votes']])"
      ]
    }
  ],
  "metadata": {
    "kernelspec": {
      "display_name": "Python 3 (ipykernel)",
      "language": "python",
      "name": "python3"
    },
    "language_info": {
      "codemirror_mode": {
        "name": "ipython",
        "version": 3
      },
      "file_extension": ".py",
      "mimetype": "text/x-python",
      "name": "python",
      "nbconvert_exporter": "python",
      "pygments_lexer": "ipython3",
      "version": "3.11.6"
    },
    "colab": {
      "provenance": []
    }
  },
  "nbformat": 4,
  "nbformat_minor": 5
}