{
 "cells": [
  {
   "cell_type": "code",
   "execution_count": null,
   "id": "aa33bc7a",
   "metadata": {
    "colab": {
     "base_uri": "https://localhost:8080/"
    },
    "id": "aa33bc7a",
    "outputId": "2bef0a16-9ee1-40a3-bcea-8f052e293c57"
   },
   "outputs": [],
   "source": [
    "import matplotlib.pyplot as plt\n",
    "import pandas as pd\n",
    "import numpy as np\n",
    "import seaborn as sns\n",
    "\n",
    "# Load the dataset\n",
    "data = pd.read_csv(\"/content/Dataset.csv\")\n",
    "\n",
    "# Convert data to DataFrame\n",
    "df = pd.DataFrame(data)\n",
    "\n",
    "# Display basic dataset information\n",
    "print(\"📌 Dataset Information:\")\n",
    "df.info()\n",
    "\n",
    "# Display the first 5 rows\n",
    "print(\"\\n📌 First 5 Rows of the Dataset:\")\n",
    "print(df.head())\n",
    "\n",
    "# Display the last 5 rows\n",
    "print(\"\\n📌 Last 5 Rows of the Dataset:\")\n",
    "print(df.tail())\n",
    "\n",
    "# Display summary statistics for numerical columns\n",
    "print(\"\\n📌 Summary Statistics:\")\n",
    "print(df.describe())\n",
    "\n",
    "# Check for missing values\n",
    "print(\"\\n📌 Missing Values per Column:\")\n",
    "print(df.isnull().sum())\n",
    "\n",
    "# Display column names\n",
    "print(\"\\n📌 Column Names:\")\n",
    "print(df.columns.tolist())\n",
    "\n",
    "# Display unique values for categorical columns (if applicable)\n",
    "categorical_cols = df.select_dtypes(include=['object']).columns\n",
    "print(\"\\n📌 Unique Values in Categorical Columns:\")\n",
    "for col in categorical_cols:\n",
    "    print(f\"{col}: {df[col].nunique()} unique values\")\n",
    "\n",
    "# Show shape of dataset (rows, columns)\n",
    "print(\"\\n📌 Dataset Shape:\")\n",
    "print(df.shape)  # (rows, columns)\n",
    "\n",
    "# Show data types\n",
    "print(\"\\n📌 Data Types of Each Column:\")\n",
    "print(df.dtypes)\n"
   ]
  },
  {
   "cell_type": "code",
   "execution_count": null,
   "id": "sbe7Fl8TvBCB",
   "metadata": {
    "colab": {
     "base_uri": "https://localhost:8080/"
    },
    "id": "sbe7Fl8TvBCB",
    "outputId": "b0651155-3aaf-4083-8edf-a1d39dd4af1c"
   },
   "outputs": [],
   "source": [
    "!pip install folium\n"
   ]
  },
  {
   "cell_type": "code",
   "execution_count": null,
   "id": "eee015a1",
   "metadata": {
    "colab": {
     "base_uri": "https://localhost:8080/",
     "height": 685
    },
    "id": "eee015a1",
    "outputId": "e75c0f9e-a714-4915-ff12-6fa9421b4b00",
    "scrolled": true
   },
   "outputs": [],
   "source": [
    "from IPython.display import display\n",
    "import folium\n",
    "\n",
    "# Create map centered at the first restaurant location\n",
    "map_center = [df['Latitude'].iloc[0], df['Longitude'].iloc[0]]\n",
    "restaurant_map = folium.Map(location=map_center, zoom_start=12)\n",
    "\n",
    "# Add restaurant markers\n",
    "for index, row in df.iterrows():\n",
    "    folium.Marker([row['Latitude'], row['Longitude']], popup=row['Restaurant Name']).add_to(restaurant_map)\n",
    "\n",
    "# Display map\n",
    "display(restaurant_map)\n"
   ]
  },
  {
   "cell_type": "code",
   "execution_count": null,
   "id": "c38f0a94",
   "metadata": {
    "id": "c38f0a94"
   },
   "outputs": [],
   "source": [
    "restaurant_map.save('restaurant_map.html')"
   ]
  },
  {
   "cell_type": "code",
   "execution_count": null,
   "id": "e63c6f77",
   "metadata": {
    "colab": {
     "base_uri": "https://localhost:8080/",
     "height": 685
    },
    "id": "e63c6f77",
    "outputId": "dc6b87ef-b574-404f-cbb1-4c50689e67a3"
   },
   "outputs": [],
   "source": [
    "df = df.dropna(subset=['Latitude', 'Longitude'])  # Remove missing coordinates\n",
    "from sklearn.preprocessing import StandardScaler\n",
    "from sklearn.cluster import KMeans\n",
    "\n",
    "coordinates = df[['Latitude', 'Longitude']]\n",
    "scaler = StandardScaler()\n",
    "scaled_coordinates = scaler.fit_transform(coordinates)\n",
    "\n",
    "num_clusters = 3\n",
    "kmeans = KMeans(n_clusters=num_clusters, random_state=42, n_init=10)  # Explicit n_init to avoid warnings\n",
    "df['Cluster'] = kmeans.fit_predict(scaled_coordinates)\n",
    "from sklearn.preprocessing import StandardScaler\n",
    "from sklearn.cluster import KMeans\n",
    "\n",
    "coordinates = df[['Latitude', 'Longitude']]\n",
    "scaler = StandardScaler()\n",
    "scaled_coordinates = scaler.fit_transform(coordinates)\n",
    "\n",
    "num_clusters = 3\n",
    "kmeans = KMeans(n_clusters=num_clusters, random_state=42, n_init=10)  # Explicit n_init to avoid warnings\n",
    "df['Cluster'] = kmeans.fit_predict(scaled_coordinates)\n",
    "from IPython.display import display\n",
    "import folium\n",
    "\n",
    "map_center = [df['Latitude'].iloc[0], df['Longitude'].iloc[0]]\n",
    "restaurant_map = folium.Map(location=map_center, zoom_start=12)\n",
    "\n",
    "# Define cluster colors\n",
    "cluster_colors = {0: 'red', 1: 'blue', 2: 'green'}\n",
    "\n",
    "# Add markers\n",
    "for _, row in df.iterrows():\n",
    "    folium.Marker(\n",
    "        [row['Latitude'], row['Longitude']],\n",
    "        popup=row['Restaurant Name'],\n",
    "        icon=folium.Icon(color=cluster_colors[row['Cluster']])\n",
    "    ).add_to(restaurant_map)\n",
    "\n",
    "# Display the map\n",
    "display(restaurant_map)\n"
   ]
  },
  {
   "cell_type": "code",
   "execution_count": null,
   "id": "eec2f267",
   "metadata": {
    "id": "eec2f267"
   },
   "outputs": [],
   "source": [
    "\n",
    "restaurant_map.save('restaurant_clusters_map.html')"
   ]
  }
 ],
 "metadata": {
  "colab": {
   "provenance": []
  },
  "kernelspec": {
   "display_name": "Python 3 (ipykernel)",
   "language": "python",
   "name": "python3"
  },
  "language_info": {
   "codemirror_mode": {
    "name": "ipython",
    "version": 3
   },
   "file_extension": ".py",
   "mimetype": "text/x-python",
   "name": "python",
   "nbconvert_exporter": "python",
   "pygments_lexer": "ipython3",
   "version": "3.11.6"
  }
 },
 "nbformat": 4,
 "nbformat_minor": 5
}
